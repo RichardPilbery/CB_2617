{
 "cells": [
  {
   "cell_type": "markdown",
   "id": "8732e66c-bdec-4669-a500-9fdaaadfb0d5",
   "metadata": {},
   "source": [
    "# Primary Outcome:  \n",
    "\n",
    "Proportion of patients who contact NHS111 and are triaged to an urgent dental disposition who see a dentist face-to-face within 7 days of the index call \n",
    "\n",
    "  \n",
    "\n",
    "# Secondary outcomes:  \n",
    "\n",
    "Proportion of patients who contact NHS111 and are triaged to an urgent dental disposition who see a dentist face-to-face within 24 hours (NHS commissioning guidance) \n",
    "\n",
    "Proportion of patients who contact NHS111 and are triaged to an urgent dental disposition who: \n",
    "\n",
    "See a dentist face-to-face within the disposition timeframe \n",
    "\n",
    "Are admitted or discharged from ED \n",
    "\n",
    "Have contact with a non-dental primary care service \n",
    "\n",
    "Number of 111 contacts within a year stratified by IMD quintile/decile \n",
    "\n",
    "Mean/median distance from home LSOA to first dental face-to-face appointment stratified by quintile "
   ]
  },
  {
   "cell_type": "markdown",
   "id": "98424b78-c2c3-4fd0-a340-a2434d1870ba",
   "metadata": {},
   "source": [
    "# Date range\n",
    "All index 111 calls occuring between 1st October 2022 and 31st October 2024"
   ]
  },
  {
   "cell_type": "code",
   "execution_count": null,
   "id": "cc34cb5b-54e9-4108-8ffc-71ea812eca90",
   "metadata": {
    "tags": []
   },
   "outputs": [],
   "source": [
    "library(DBI)\n",
    "library(dbplyr)\n",
    "library(bigrquery)\n",
    "suppressPackageStartupMessages(library(tidyverse))\n",
    "library(lubridate)\n",
    "library(readxl)"
   ]
  },
  {
   "cell_type": "code",
   "execution_count": null,
   "id": "67836d41-6d83-454d-be78-53de6cf9f596",
   "metadata": {
    "tags": []
   },
   "outputs": [],
   "source": [
    "options(tibble.width = Inf, width = 300)"
   ]
  },
  {
   "cell_type": "code",
   "execution_count": null,
   "id": "0b5794b3-1926-4820-8a5f-fe6a7f5c441e",
   "metadata": {
    "tags": []
   },
   "outputs": [],
   "source": [
    "# The page size was adjusted as bigquery was throwing errors\n",
    "con <- DBI::dbConnect(\n",
    "    bigquery(), \n",
    "    project = \"yhcr-prd-bradfor-bia-core\", \n",
    "    # bigint = \"integer64\", \n",
    "    page_size = 15000,\n",
    "    dataset = 'CB_2617'\n",
    ")\n"
   ]
  },
  {
   "cell_type": "code",
   "execution_count": null,
   "id": "bf23364f-2356-4d10-896d-e3fc95b3a874",
   "metadata": {
    "tags": []
   },
   "outputs": [],
   "source": [
    "dbListTables(con)"
   ]
  },
  {
   "cell_type": "code",
   "execution_count": null,
   "id": "ede6caf4-31bb-49a9-b7c3-b48b9b8ef966",
   "metadata": {
    "tags": []
   },
   "outputs": [],
   "source": [
    "iuc_tbl <- tbl(con, \"tbl_YAS_IUC\")"
   ]
  },
  {
   "cell_type": "code",
   "execution_count": null,
   "id": "17e30542-04f7-4ddc-bfe8-c6d6f939afb0",
   "metadata": {
    "tags": []
   },
   "outputs": [],
   "source": [
    "iuc_tbl  %>% colnames()"
   ]
  },
  {
   "cell_type": "code",
   "execution_count": null,
   "id": "5d1c18b7-9072-4b39-acd8-8dbbe4c359ac",
   "metadata": {
    "tags": []
   },
   "outputs": [],
   "source": [
    "iuc_tbl %>% count()"
   ]
  },
  {
   "cell_type": "code",
   "execution_count": null,
   "id": "0193f170-023f-4de4-874e-fa3a48a5a3d9",
   "metadata": {
    "tags": []
   },
   "outputs": [],
   "source": [
    "iuc_tbl %>% filter(!is.na(person_id)) %>% count()"
   ]
  },
  {
   "cell_type": "code",
   "execution_count": null,
   "id": "2eb00f90-c2a9-4157-ad14-62316e96694b",
   "metadata": {},
   "outputs": [],
   "source": []
  },
  {
   "cell_type": "markdown",
   "id": "efe9149c-21c5-4806-979d-f7da8ee9e9ec",
   "metadata": {},
   "source": [
    "# Date distribution of calls"
   ]
  },
  {
   "cell_type": "code",
   "execution_count": null,
   "id": "5d7a3d48-2b74-48a1-87f5-5f8e104afc3a",
   "metadata": {
    "tags": []
   },
   "outputs": [],
   "source": [
    "iuc_tbl %>% summarise(\n",
    "    min_date = min(tbl_YAS_IUC_start_date, na.rm = T),\n",
    "    max_date = max(tbl_YAS_IUC_start_date, na.rm = T)\n",
    ")"
   ]
  },
  {
   "cell_type": "markdown",
   "id": "7d6c58b4-1ea1-4c9b-ac06-91d36644fffd",
   "metadata": {
    "tags": []
   },
   "source": [
    "# Number of index calls"
   ]
  },
  {
   "cell_type": "code",
   "execution_count": null,
   "id": "11511751-0490-4f3d-8a8f-a5a4af66fc47",
   "metadata": {
    "tags": []
   },
   "outputs": [],
   "source": [
    "sql <- \"\n",
    "    WITH ordered_calls AS (\n",
    "      SELECT\n",
    "        person_id,\n",
    "        tbl_YAS_IUC_start_date,\n",
    "        LAG(tbl_YAS_IUC_start_date) OVER (PARTITION BY person_id ORDER BY tbl_YAS_IUC_start_date) AS previous_call\n",
    "      FROM `tbl_YAS_IUC`\n",
    "     WHERE person_id IS NOT NULL\n",
    "    ),\n",
    "    session_marks AS (\n",
    "      SELECT\n",
    "        person_id,\n",
    "        tbl_YAS_IUC_start_date,\n",
    "        CASE\n",
    "          WHEN previous_call IS NULL THEN 1\n",
    "          WHEN DATE_DIFF(tbl_YAS_IUC_start_date, previous_call, DAY) > 7 THEN 1\n",
    "          ELSE 0\n",
    "        END AS new_session\n",
    "      FROM ordered_calls\n",
    "    ),\n",
    "    sessions AS (\n",
    "      SELECT\n",
    "        person_id,\n",
    "        tbl_YAS_IUC_start_date,\n",
    "        SUM(new_session) OVER (PARTITION BY person_id ORDER BY tbl_YAS_IUC_start_date) AS session_id\n",
    "      FROM session_marks\n",
    "    ),\n",
    "    session_groups AS (\n",
    "      SELECT\n",
    "        person_id,\n",
    "        session_id,\n",
    "        MIN(tbl_YAS_IUC_start_date) AS index_call,\n",
    "        COUNT(*) AS call_count\n",
    "      FROM sessions\n",
    "      GROUP BY person_id, session_id\n",
    "    )\n",
    "    SELECT * FROM session_groups\n",
    "    ORDER BY person_id, index_call;\n",
    "\""
   ]
  },
  {
   "cell_type": "code",
   "execution_count": null,
   "id": "70323fe9-98dc-41b1-bd33-d9daae4c1966",
   "metadata": {
    "tags": []
   },
   "outputs": [],
   "source": [
    "result <- dbGetQuery(con, sql)"
   ]
  },
  {
   "cell_type": "code",
   "execution_count": null,
   "id": "01a1321a-4e34-4617-b11b-a1f894b146f9",
   "metadata": {
    "tags": []
   },
   "outputs": [],
   "source": [
    "result %>% arrange(desc(call_count)) %>% head(n=20)"
   ]
  },
  {
   "cell_type": "markdown",
   "id": "9f26d91e-b679-4de7-ac93-af94a1ebc2b4",
   "metadata": {},
   "source": [
    "# Save IUC lookup tables"
   ]
  },
  {
   "cell_type": "code",
   "execution_count": null,
   "id": "d3f106a6-3bf3-49a6-b64f-3b9310924c0f",
   "metadata": {
    "tags": []
   },
   "outputs": [],
   "source": [
    "dx_code_df <- read_xlsx('../data/IUC-ADC-REVISED-Dx-code-mapping-October-2023.xlsx', skip = 1) %>% transmute(\n",
    "    dx_code = tolower(`Disposition Code`),\n",
    "    dx_desc = `Disposition Text` \n",
    ")"
   ]
  },
  {
   "cell_type": "code",
   "execution_count": null,
   "id": "4f4cf506-8113-407c-a2e4-d22f058db7c0",
   "metadata": {
    "tags": []
   },
   "outputs": [],
   "source": [
    "dx_code_df %>% glimpse()"
   ]
  },
  {
   "cell_type": "code",
   "execution_count": null,
   "id": "4bc9a9af-c33d-46f5-9e18-e86c0ddba561",
   "metadata": {
    "tags": []
   },
   "outputs": [],
   "source": [
    "# dbWriteTable(con, \"iuc_dx_lookup\", dx_code_df, overwrite = T) "
   ]
  },
  {
   "cell_type": "code",
   "execution_count": null,
   "id": "9538d240-9779-4f05-bc79-6cd3df795f4e",
   "metadata": {
    "tags": []
   },
   "outputs": [],
   "source": [
    "iuc_dx_lookup_tbl <- tbl(con, \"iuc_dx_lookup\")"
   ]
  },
  {
   "cell_type": "code",
   "execution_count": null,
   "id": "d8dd06f7-42f4-45dd-9b29-5cf907e38255",
   "metadata": {
    "tags": []
   },
   "outputs": [],
   "source": [
    "iuc_dx_lookup_tbl %>% glimpse()"
   ]
  },
  {
   "cell_type": "markdown",
   "id": "8ae2a2c1-a35c-4e51-8d71-15427a3e7755",
   "metadata": {
    "tags": []
   },
   "source": [
    "# Index calls redux"
   ]
  },
  {
   "cell_type": "code",
   "execution_count": null,
   "id": "b3bfdced-c8b4-43a3-b9c4-90b2defe4c3b",
   "metadata": {
    "tags": []
   },
   "outputs": [],
   "source": [
    "iuc_tbl %>% \n",
    "    mutate(\n",
    "        final_dx_code = tolower(final_dx_code)\n",
    "    ) %>% \n",
    "    # left_join(iuc_dx_lookup_tbl, by=c(\"final_dx_code\"=\"dx_code\")) %>%\n",
    "    filter(person_id == \"PERSON_ID\") %>% #head()\n",
    "    arrange(tbl_YAS_IUC_start_date) %>% \n",
    "    select(\n",
    "        tbl_YAS_IUC_start_date, final_dx_description, referral_service\n",
    "    ) %>% print(n=50)"
   ]
  },
  {
   "cell_type": "code",
   "execution_count": null,
   "id": "96e1cf43-1c84-4641-9d6f-f441c7982db8",
   "metadata": {},
   "outputs": [],
   "source": [
    "# iuc_tbl %>% \n",
    "#     mutate(\n",
    "#         final_dx_code = tolower(final_dx_code)\n",
    "#     ) %>% show_query()"
   ]
  },
  {
   "cell_type": "markdown",
   "id": "76ad7919-92c4-4a09-b43d-29d35c7baf5c",
   "metadata": {},
   "source": [
    "# Check Disposition code"
   ]
  },
  {
   "cell_type": "code",
   "execution_count": null,
   "id": "99508fc2-6cab-4444-9bdf-175e49e58cbd",
   "metadata": {
    "tags": []
   },
   "outputs": [],
   "source": [
    "# iuc_dx_lookup_tbl <- tbl(con, \"iuc_dx_lookup\")"
   ]
  },
  {
   "cell_type": "code",
   "execution_count": null,
   "id": "5d62c75f-c292-409b-a946-27197d05b164",
   "metadata": {
    "tags": []
   },
   "outputs": [],
   "source": [
    "iuc_tbl %>% \n",
    "    mutate(\n",
    "        final_dx_code = tolower(final_dx_code)\n",
    "    ) %>%\n",
    "    # left_join(iuc_dx_lookup_tbl, by=c(\"final_dx_code\"=\"dx_code\")) %>%\n",
    "    count(final_dx_description, sort = T)"
   ]
  },
  {
   "cell_type": "markdown",
   "id": "fca3ffcc-984c-45b4-9132-0a0f08ab1b45",
   "metadata": {
    "tags": []
   },
   "source": [
    "# Check distribution of calls"
   ]
  },
  {
   "cell_type": "code",
   "execution_count": null,
   "id": "e3ac520c-a7c2-4500-955d-d622e2240c6c",
   "metadata": {
    "tags": []
   },
   "outputs": [],
   "source": [
    "monthly_counts <- result %>%\n",
    "  mutate(month = floor_date(index_call, \"month\")) %>%\n",
    "  group_by(month) %>%\n",
    "  summarise(index_call_count = n()) %>%\n",
    "  arrange(month)"
   ]
  },
  {
   "cell_type": "code",
   "execution_count": null,
   "id": "c6ba8fe9-21c1-4861-9d8f-d5ff6703d860",
   "metadata": {
    "tags": []
   },
   "outputs": [],
   "source": [
    "monthly_counts %>% glimpse()"
   ]
  },
  {
   "cell_type": "code",
   "execution_count": null,
   "id": "6929d9c9-2b17-4f5e-a18e-3ff300a110b6",
   "metadata": {
    "tags": []
   },
   "outputs": [],
   "source": [
    "options(repr.plot.width = 14, repr.plot.height = 8) "
   ]
  },
  {
   "cell_type": "code",
   "execution_count": null,
   "id": "c4ec97a6-523a-4cfa-bcbc-f28074ea80fa",
   "metadata": {
    "tags": []
   },
   "outputs": [],
   "source": [
    "ggplot(monthly_counts, aes(x = month, y = index_call_count)) +\n",
    "  geom_col() +\n",
    "  labs(\n",
    "    title = \"Monthly Count of Index Calls\",\n",
    "    x = \"Month\",\n",
    "    y = \"Number of Index Calls\"\n",
    "  ) +\n",
    "  theme_minimal()"
   ]
  },
  {
   "cell_type": "code",
   "execution_count": null,
   "id": "f60dfc16-0934-427c-b133-7f72fe808254",
   "metadata": {
    "tags": []
   },
   "outputs": [],
   "source": [
    "iuc_tbl %>%\n",
    "    mutate(month = sql(\"DATE_TRUNC(tbl_YAS_IUC_start_date, MONTH)\")) %>%\n",
    "      count(month) %>%\n",
    "      arrange(month) %>%\n",
    "ggplot(aes(x = month, y = n)) +\n",
    "geom_col()\n",
    "    "
   ]
  },
  {
   "cell_type": "code",
   "execution_count": null,
   "id": "11781ae1-3988-4173-8017-c91aa24e6563",
   "metadata": {
    "tags": []
   },
   "outputs": [],
   "source": [
    "total_iuc_df <- read_csv('../data/IUC-total-count.csv')"
   ]
  },
  {
   "cell_type": "code",
   "execution_count": null,
   "id": "2dda7f7f-136b-4942-a6dc-9ac3b7141f37",
   "metadata": {
    "tags": []
   },
   "outputs": [],
   "source": [
    "#dbWriteTable(con, \"iuc_total_count\", total_iuc_df, overwrite = T) "
   ]
  },
  {
   "cell_type": "code",
   "execution_count": null,
   "id": "0f5ea6c8-345c-4606-b2ad-648c056f6423",
   "metadata": {
    "tags": []
   },
   "outputs": [],
   "source": [
    "iuc_total_count_tbl <- tbl(con, \"iuc_total_count\")"
   ]
  },
  {
   "cell_type": "code",
   "execution_count": null,
   "id": "b305a908-9993-4d72-9e62-6c3375093afb",
   "metadata": {
    "tags": []
   },
   "outputs": [],
   "source": [
    "iuc_total_count_tbl"
   ]
  },
  {
   "cell_type": "code",
   "execution_count": null,
   "id": "0c69d69a-babc-432f-97e9-8a9196f00e43",
   "metadata": {
    "tags": []
   },
   "outputs": [],
   "source": [
    "iuc_count_df <- iuc_tbl %>%\n",
    "    mutate(month = sql(\"CAST(DATE_TRUNC(tbl_YAS_IUC_start_date, MONTH) AS DATE)\")) %>% \n",
    "    left_join(iuc_total_count_tbl, by=c(\"month\"=\"Date\")) %>% \n",
    "    select(month, Count) %>%\n",
    "    group_by(month) %>%\n",
    "    summarise(\n",
    "        dental = n(),\n",
    "        total = max(Count)\n",
    "    ) %>%\n",
    "    arrange(month) %>%\n",
    "    collect()"
   ]
  },
  {
   "cell_type": "code",
   "execution_count": null,
   "id": "337850cc-fadf-42d5-b3bb-adb4f93cb101",
   "metadata": {
    "tags": []
   },
   "outputs": [],
   "source": [
    "iuc_count_df %>% \n",
    "    pivot_longer(-month) %>%\n",
    "    ggplot(aes(x = month, y = value, fill = name)) +\n",
    "    geom_col() +\n",
    "    facet_wrap(~name, scales=\"free_y\")"
   ]
  },
  {
   "cell_type": "code",
   "execution_count": null,
   "id": "5a74d20d-af02-4cf3-8c80-617f52db8d2a",
   "metadata": {
    "tags": []
   },
   "outputs": [],
   "source": [
    "dental_tbl <- tbl(con, \"tbl_Dental_Data_NHBSA\")"
   ]
  },
  {
   "cell_type": "code",
   "execution_count": null,
   "id": "ff73ab67-b66f-488d-a182-1480aee6a4a0",
   "metadata": {
    "tags": []
   },
   "outputs": [],
   "source": [
    "dental_tbl %>% colnames()"
   ]
  },
  {
   "cell_type": "code",
   "execution_count": null,
   "id": "c65bb34b-44d1-4051-ba40-9a3905de0d87",
   "metadata": {
    "tags": []
   },
   "outputs": [],
   "source": [
    "dental_tbl %>% summarise(\n",
    "    min_date = min(tbl_Dental_Data_NHBSA_start_date, na.rm = T),\n",
    "    max_date = max(tbl_Dental_Data_NHBSA_start_date, na.rm = T)\n",
    "    )"
   ]
  },
  {
   "cell_type": "code",
   "execution_count": null,
   "id": "98ee2c2e-10e8-4ad7-a2a7-4afa244ff58e",
   "metadata": {
    "tags": []
   },
   "outputs": [],
   "source": [
    "monthly_dental_counts <- dental_tbl %>%\n",
    "  filter(between(tbl_Dental_Data_NHBSA_start_date, '2022-10-01', '2023-10-31')) %>%\n",
    "  mutate(month = sql(\"CAST(DATE_TRUNC(tbl_Dental_Data_NHBSA_start_date, MONTH) AS DATE)\")) %>% \n",
    "  count(month) %>% rename(dental_n = n) %>% collect()"
   ]
  },
  {
   "cell_type": "code",
   "execution_count": null,
   "id": "acae10f0-5d8d-437d-9a72-5bb3383c9848",
   "metadata": {
    "tags": []
   },
   "outputs": [],
   "source": [
    "monthly_dental_counts %>% print(n=20)"
   ]
  },
  {
   "cell_type": "code",
   "execution_count": null,
   "id": "d68e68cf-9bd0-4373-bcc6-fd187aec652f",
   "metadata": {
    "tags": []
   },
   "outputs": [],
   "source": [
    "iuc_count_df <- iuc_tbl %>%\n",
    "    mutate(month = sql(\"CAST(DATE_TRUNC(tbl_YAS_IUC_start_date, MONTH) AS DATE)\")) %>% \n",
    "    left_join(iuc_total_count_tbl, by=c(\"month\"=\"Date\")) %>% \n",
    "    select(month, Count) %>%\n",
    "    group_by(month) %>%\n",
    "    summarise(\n",
    "        dental = n(),\n",
    "        total = max(Count)\n",
    "    ) %>%\n",
    "    arrange(month) %>%\n",
    "    collect()"
   ]
  },
  {
   "cell_type": "code",
   "execution_count": null,
   "id": "02731b73-46fa-4a80-8930-2043b6a8e72a",
   "metadata": {
    "tags": []
   },
   "outputs": [],
   "source": [
    "iuc_dental_count_df %>% glimpse()"
   ]
  },
  {
   "cell_type": "code",
   "execution_count": null,
   "id": "787acbc5-e452-427b-898a-bf7f26beb345",
   "metadata": {
    "tags": []
   },
   "outputs": [],
   "source": [
    "dental_iuc_df <- iuc_count_df %>% left_join(monthly_dental_counts)"
   ]
  },
  {
   "cell_type": "code",
   "execution_count": null,
   "id": "cbe554dc-c00a-4d03-877a-08e0e742f976",
   "metadata": {
    "tags": []
   },
   "outputs": [],
   "source": [
    "dental_iuc_df %>% glimpse()"
   ]
  },
  {
   "cell_type": "code",
   "execution_count": null,
   "id": "8786780c-ea68-41b4-a490-22e500a2ecbf",
   "metadata": {
    "tags": []
   },
   "outputs": [],
   "source": [
    "dental_iuc_df %>%\n",
    "    select(-total) %>%\n",
    "    pivot_longer(-month) %>%\n",
    "    ggplot(aes(x = month, y = value, fill = name)) +\n",
    "    geom_col()"
   ]
  },
  {
   "cell_type": "code",
   "execution_count": null,
   "id": "aab6bde7-9074-4a9b-97d2-6ee8005de4d4",
   "metadata": {
    "tags": []
   },
   "outputs": [],
   "source": [
    "dental_tbl %>% count()"
   ]
  },
  {
   "cell_type": "code",
   "execution_count": null,
   "id": "26fcdf4c-3799-4fe5-a949-c0947cae3e01",
   "metadata": {
    "tags": []
   },
   "outputs": [],
   "source": [
    "dental_tbl %>% count(TREATMENT_CHARGE_BAND)"
   ]
  },
  {
   "cell_type": "code",
   "execution_count": null,
   "id": "0cabb900-4425-49ce-8171-5258620f00ae",
   "metadata": {},
   "outputs": [],
   "source": [
    "# Combine IUC and dental\n",
    "NOTE: a bit hacky....might have to refactor"
   ]
  },
  {
   "cell_type": "code",
   "execution_count": null,
   "id": "8caca38c-3daa-489b-82fa-ed8ebbaa4d03",
   "metadata": {
    "tags": []
   },
   "outputs": [],
   "source": [
    "# Looks to be people from BD and LS postcode\n",
    "# Filtering IUC data on dental data, although this will not then provide everyone\n",
    "# possibly, so might have to sort something else for the denominator\n",
    "\n",
    "dental_sql <- \"WITH ordered_calls AS (\n",
    "  SELECT\n",
    "    iuc.person_id,\n",
    "    iuc.final_dx_description,\n",
    "    iuc.tbl_YAS_IUC_start_date,\n",
    "    LAG(iuc.tbl_YAS_IUC_start_date) OVER (PARTITION BY iuc.person_id ORDER BY iuc.tbl_YAS_IUC_start_date) AS previous_call\n",
    "  FROM `tbl_YAS_IUC` iuc\n",
    "  WHERE iuc.person_id IN (\n",
    "    SELECT DISTINCT person_id FROM `tbl_Dental_Data_NHBSA`\n",
    "  )\n",
    "),\n",
    "\n",
    "session_marks AS (\n",
    "  SELECT\n",
    "    person_id,\n",
    "    tbl_YAS_IUC_start_date,\n",
    "    CASE\n",
    "      WHEN previous_call IS NULL THEN 1\n",
    "      WHEN DATE_DIFF(tbl_YAS_IUC_start_date, previous_call, DAY) > 7 THEN 1\n",
    "      ELSE 0\n",
    "    END AS new_session\n",
    "  FROM ordered_calls\n",
    "),\n",
    "\n",
    "sessions AS (\n",
    "  SELECT\n",
    "    person_id,\n",
    "    tbl_YAS_IUC_start_date,\n",
    "    SUM(new_session) OVER (PARTITION BY person_id ORDER BY tbl_YAS_IUC_start_date) AS session_id\n",
    "  FROM session_marks\n",
    "),\n",
    "\n",
    "session_groups AS (\n",
    "  SELECT\n",
    "    person_id,\n",
    "    session_id,\n",
    "    MIN(tbl_YAS_IUC_start_date) AS index_call,\n",
    "    MAX(tbl_YAS_IUC_start_date) AS last_call_in_session\n",
    "  FROM sessions\n",
    "  GROUP BY person_id, session_id\n",
    "),\n",
    "\n",
    "session_with_dx AS (\n",
    "  SELECT\n",
    "    sg.*,\n",
    "    iy.final_dx_description\n",
    "  FROM session_groups sg\n",
    "  LEFT JOIN `tbl_YAS_IUC` iy\n",
    "    ON sg.person_id = iy.person_id\n",
    "    AND sg.index_call = iy.tbl_YAS_IUC_start_date\n",
    "),\n",
    "\n",
    "dental_matches AS (\n",
    "  SELECT\n",
    "    s.person_id,\n",
    "    s.session_id,\n",
    "    s.index_call,\n",
    "    s.last_call_in_session,\n",
    "    s.final_dx_description,\n",
    "    d.tbl_Dental_Data_NHBSA_start_date AS dental_date,\n",
    "    d.TREATMENT_CHARGE_BAND\n",
    "  FROM session_with_dx s\n",
    "  LEFT JOIN `tbl_Dental_Data_NHBSA` d\n",
    "    ON s.person_id = d.person_id\n",
    "    AND d.tbl_Dental_Data_NHBSA_start_date BETWEEN s.index_call AND DATE_ADD(s.index_call, INTERVAL 7 DAY)\n",
    ")\n",
    "\n",
    "SELECT * \n",
    "FROM dental_matches\n",
    "ORDER BY person_id, index_call, dental_date;\n",
    "\n",
    "\"\n"
   ]
  },
  {
   "cell_type": "code",
   "execution_count": null,
   "id": "02ed1b0d-81e1-40c9-85b1-d4cf79f9c51b",
   "metadata": {
    "tags": []
   },
   "outputs": [],
   "source": [
    "dental_result <- dbGetQuery(con, dental_sql)"
   ]
  },
  {
   "cell_type": "code",
   "execution_count": null,
   "id": "6380bea8-f8ef-4a83-a341-3b90238d5ac8",
   "metadata": {
    "tags": []
   },
   "outputs": [],
   "source": [
    "dental_result %>% arrange(person_id) %>% count(TREATMENT_CHARGE_BAND)"
   ]
  },
  {
   "cell_type": "code",
   "execution_count": null,
   "id": "232471ff-c4fc-4f95-9ccd-fea9ddeb735f",
   "metadata": {
    "tags": []
   },
   "outputs": [],
   "source": [
    "dental_result %>% arrange(person_id) %>% count(!is.na(dental_date)) # 11,914"
   ]
  },
  {
   "cell_type": "code",
   "execution_count": null,
   "id": "d1201b81-ba7a-4519-ac02-60c05bf51b4c",
   "metadata": {
    "tags": []
   },
   "outputs": [],
   "source": [
    "dental_result %>% arrange(person_id) %>% filter(!is.na(dental_date)) %>% count(final_dx_description) %>% arrange(desc(n))"
   ]
  },
  {
   "cell_type": "code",
   "execution_count": null,
   "id": "2aa390ba-9542-4477-a29e-c2ab954157c6",
   "metadata": {
    "tags": []
   },
   "outputs": [],
   "source": [
    "dental_tbl %>% count(PARTIAL_POSTCODE)"
   ]
  },
  {
   "cell_type": "code",
   "execution_count": null,
   "id": "925d9ab7-7e5f-4059-8a0f-13c1f7fdadb7",
   "metadata": {
    "tags": []
   },
   "outputs": [],
   "source": [
    "2500+1283+435+141+99+69"
   ]
  },
  {
   "cell_type": "code",
   "execution_count": null,
   "id": "b0c9e10d-971b-409f-80c7-eb4be92e9be5",
   "metadata": {},
   "outputs": [],
   "source": [
    "# Data looks to be BD and LS postcodes only. Will need to filter IUC data on these\n",
    "# Probably further filtering required v "
   ]
  },
  {
   "cell_type": "code",
   "execution_count": null,
   "id": "437d4885-01d1-458b-b861-33959bf0b07b",
   "metadata": {},
   "outputs": [],
   "source": [
    "# Data dictionary of sorts for dental"
   ]
  },
  {
   "cell_type": "code",
   "execution_count": null,
   "id": "3d9b34d3-0960-4516-92d9-f8c8fc43d839",
   "metadata": {
    "tags": []
   },
   "outputs": [],
   "source": [
    "project <- \"yhcr-prd-bradfor-bia-core\"\n",
    "dataset <- \"CB_2617\"\n",
    "table_name <- \"tbl_Dental_Data_NHBSA\"\n",
    "\n",
    "# Step 1: Get column metadata\n",
    "columns <- dbGetQuery(con, glue::glue(\"\n",
    "  SELECT column_name, data_type \n",
    "  FROM `{project}.{dataset}.INFORMATION_SCHEMA.COLUMNS`\n",
    "  WHERE table_name = '{table_name}'\n",
    "\"))\n"
   ]
  },
  {
   "cell_type": "code",
   "execution_count": null,
   "id": "8f32103f-fb2b-4d6f-a7d2-1f0209686277",
   "metadata": {
    "tags": []
   },
   "outputs": [],
   "source": [
    "# Step 2: For each column, compute profiling stats\n",
    "profile_column <- function(...) {\n",
    "  args <- list(...)\n",
    "  colname <- args$column_name\n",
    "  dtype <- args$data_type\n",
    "\n",
    "  base_query <- glue::glue(\"\n",
    "    SELECT\n",
    "      COUNT(*) AS total_rows,\n",
    "      COUNTIF({colname} IS NULL) / COUNT(*) AS null_pct\n",
    "  \")\n",
    "\n",
    "  details <- dplyr::case_when(\n",
    "    dtype %in% c(\"STRING\", \"BOOL\") ~ glue::glue(\", COUNT(DISTINCT {colname}) AS n_unique,\n",
    "      ARRAY_AGG(DISTINCT {colname} IGNORE NULLS) AS sample_values\"),\n",
    "    dtype %in% c(\"INT64\", \"NUMERIC\", \"FLOAT64\") ~ glue::glue(\", MIN({colname}) AS min_val,\n",
    "      MAX({colname}) AS max_val\"),\n",
    "    dtype == \"DATE\" ~ glue::glue(\", MIN({colname}) AS min_date,\n",
    "      MAX({colname}) AS max_date\"),\n",
    "    TRUE ~ \"\"\n",
    "  )\n",
    "\n",
    "  full_query <- glue::glue(\"{base_query} {details} FROM `{project}.{dataset}.{table_name}`\")\n",
    "\n",
    "  tryCatch({\n",
    "    DBI::dbGetQuery(con, full_query) %>%\n",
    "      mutate(column_name = colname, data_type = dtype)\n",
    "  }, error = function(e) {\n",
    "    tibble(column_name = colname, data_type = dtype, error = e$message)\n",
    "  })\n",
    "}\n",
    "\n",
    "\n"
   ]
  },
  {
   "cell_type": "code",
   "execution_count": null,
   "id": "334d46c2-b918-48c9-b00f-382bc0e513c9",
   "metadata": {
    "tags": []
   },
   "outputs": [],
   "source": [
    "# Step 3: Map profiling over all columns\n",
    "data_dict <- pmap_dfr(columns, profile_column)\n",
    "\n",
    "# Step 4: Reorder and view\n",
    "data_dict <- data_dict %>% \n",
    "  select(column_name, data_type, total_rows, null_pct, everything()) %>%\n",
    "  arrange(desc(null_pct))"
   ]
  },
  {
   "cell_type": "code",
   "execution_count": null,
   "id": "93119e6c-5e14-470a-83e9-49d6274ef8f0",
   "metadata": {},
   "outputs": [],
   "source": []
  },
  {
   "cell_type": "code",
   "execution_count": null,
   "id": "1700aaf2-e8b8-4d78-8619-daf5ecf43229",
   "metadata": {
    "tags": []
   },
   "outputs": [],
   "source": [
    "data_dict %>% glimpse()"
   ]
  },
  {
   "cell_type": "code",
   "execution_count": null,
   "id": "6ca8c991-c5c8-4fe8-83bb-f35edfc49c27",
   "metadata": {
    "tags": []
   },
   "outputs": [],
   "source": [
    "data_dict_clean <- data_dict %>%\n",
    "  mutate(\n",
    "    sample_values = purrr::map_chr(sample_values, ~ if (is.null(.x)) NA_character_ else paste(.x, collapse = \"; \"))\n",
    "  )"
   ]
  },
  {
   "cell_type": "code",
   "execution_count": null,
   "id": "f177f091-5044-437b-9566-be67d4990325",
   "metadata": {
    "tags": []
   },
   "outputs": [],
   "source": [
    "data_dict_clean"
   ]
  },
  {
   "cell_type": "code",
   "execution_count": null,
   "id": "1f68f468-399f-4298-9caa-65ef22f46991",
   "metadata": {
    "tags": []
   },
   "outputs": [],
   "source": [
    "data_dict_clean %>% write_csv('../data/dental_data_dict.csv')"
   ]
  },
  {
   "cell_type": "code",
   "execution_count": null,
   "id": "740c3350-3113-4c64-bb96-1e2711c9f16a",
   "metadata": {},
   "outputs": [],
   "source": []
  }
 ],
 "metadata": {
  "environment": {
   "kernel": "ir",
   "name": "r-cpu.m125",
   "type": "gcloud",
   "uri": "us-docker.pkg.dev/deeplearning-platform-release/gcr.io/r-cpu:m125"
  },
  "kernelspec": {
   "display_name": "R (Local)",
   "language": "R",
   "name": "ir"
  },
  "language_info": {
   "codemirror_mode": "r",
   "file_extension": ".r",
   "mimetype": "text/x-r-source",
   "name": "R",
   "pygments_lexer": "r",
   "version": "4.4.1"
  }
 },
 "nbformat": 4,
 "nbformat_minor": 5
}
