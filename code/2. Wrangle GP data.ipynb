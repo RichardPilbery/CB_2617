{
 "cells": [
  {
   "cell_type": "markdown",
   "id": "a185f75f-007a-49e4-8e0b-b24cd8abfc70",
   "metadata": {},
   "source": [
    "# Primary Care data"
   ]
  },
  {
   "cell_type": "code",
   "execution_count": null,
   "id": "8edb241a-6c94-425d-9c06-6ab7bf570702",
   "metadata": {
    "tags": []
   },
   "outputs": [],
   "source": [
    "options(repr.plot.width = 14, repr.plot.height = 8) \n",
    "options(tibble.width = Inf, width = 300)"
   ]
  },
  {
   "cell_type": "code",
   "execution_count": null,
   "id": "3b9685d0-ed37-4c14-8998-77d163bd9357",
   "metadata": {
    "tags": []
   },
   "outputs": [],
   "source": [
    "library(DBI)\n",
    "library(dbplyr)\n",
    "library(bigrquery)\n",
    "suppressPackageStartupMessages(library(tidyverse))\n",
    "library(lubridate)\n",
    "library(readxl)\n",
    "library(knitr)\n",
    "library(IRdisplay)\n",
    "library(htmltools)"
   ]
  },
  {
   "cell_type": "code",
   "execution_count": null,
   "id": "43917f57-574d-452e-9eb4-efd753652315",
   "metadata": {
    "tags": []
   },
   "outputs": [],
   "source": [
    "con <- DBI::dbConnect(\n",
    "    bigquery(), \n",
    "    project = \"yhcr-prd-bradfor-bia-core\", \n",
    "    bigint = \"character\", \n",
    "    page_size = 5000,\n",
    "    dataset = 'CB_2617'\n",
    ")\n"
   ]
  },
  {
   "cell_type": "code",
   "execution_count": null,
   "id": "d7cf8679-3dc3-4a42-b379-39785a9e5a79",
   "metadata": {
    "tags": []
   },
   "outputs": [],
   "source": [
    "index_iuc_tbl <- tbl(con, \"index_iuc\")"
   ]
  },
  {
   "cell_type": "code",
   "execution_count": null,
   "id": "c4604525-b403-4f0b-aca1-f059642d669c",
   "metadata": {
    "tags": []
   },
   "outputs": [],
   "source": [
    "index_iuc_tbl %>% glimpse()"
   ]
  },
  {
   "cell_type": "code",
   "execution_count": null,
   "id": "61bb7e27-aaeb-4aa6-950c-56d4b88492fe",
   "metadata": {
    "tags": []
   },
   "outputs": [],
   "source": [
    "gp_tbl <- tbl(con, \"tbl_PrimaryCare_SRCode\")"
   ]
  },
  {
   "cell_type": "code",
   "execution_count": null,
   "id": "0df216bd-2bf5-4d68-a776-53d13008fa22",
   "metadata": {
    "tags": []
   },
   "outputs": [],
   "source": [
    "#gp_tbl %>% glimpse()"
   ]
  },
  {
   "cell_type": "code",
   "execution_count": null,
   "id": "87ee723d-ec77-46db-9dad-69767141ca04",
   "metadata": {
    "tags": []
   },
   "outputs": [],
   "source": [
    "# Codes associated with consultations face-to-face or via telephone"
   ]
  },
  {
   "cell_type": "code",
   "execution_count": null,
   "id": "3240d174-3655-4377-8f54-70b31b1b9e8d",
   "metadata": {
    "tags": []
   },
   "outputs": [],
   "source": [
    "gp_codes_df <- read_csv('../data/richard_pilbery-primary-care-clinician-patient-interaction-72708505.csv')"
   ]
  },
  {
   "cell_type": "code",
   "execution_count": null,
   "id": "b163c5ca-c4c3-4ad7-b027-f8fb5f0940b0",
   "metadata": {
    "tags": []
   },
   "outputs": [],
   "source": [
    "gp_codes_df %>% glimpse()"
   ]
  },
  {
   "cell_type": "code",
   "execution_count": null,
   "id": "eece6932-2740-48df-b2b1-0a711f7a2531",
   "metadata": {
    "tags": []
   },
   "outputs": [],
   "source": [
    "#DBI::dbWriteTable(con, \"gp_codes\", gp_codes_df, overwrite = TRUE)"
   ]
  },
  {
   "cell_type": "code",
   "execution_count": null,
   "id": "6d159bca-54dd-4491-a8dd-655b0a5f28df",
   "metadata": {
    "tags": []
   },
   "outputs": [],
   "source": [
    "gp_sql <- \"\n",
    "    SELECT\n",
    "      iuc.*,\n",
    "      pc.*\n",
    "    FROM\n",
    "      index_iuc AS iuc\n",
    "    JOIN tbl_PrimaryCare_SRCode AS pc\n",
    "        ON iuc.person_id = pc.person_id\n",
    "    INNER JOIN gp_codes GPC\n",
    "        ON LOWER(pc.CTV3Code) = LOWER(GPC.code)\n",
    "    WHERE\n",
    "      pc.DateEventRecorded BETWEEN iuc.index_call_date\n",
    "                              AND DATE_ADD(iuc.index_call_date, INTERVAL 7 DAY)\n",
    "\n",
    "\""
   ]
  },
  {
   "cell_type": "code",
   "execution_count": null,
   "id": "7c0b3c58-2b77-4f57-99d3-40438c9d9a39",
   "metadata": {
    "tags": []
   },
   "outputs": [],
   "source": [
    "gp_df <- dbGetQuery(con, gp_sql)"
   ]
  },
  {
   "cell_type": "code",
   "execution_count": null,
   "id": "508103d9-aebc-4074-a36b-393b4909c851",
   "metadata": {
    "tags": []
   },
   "outputs": [],
   "source": [
    "gp_df %>% glimpse()"
   ]
  },
  {
   "cell_type": "markdown",
   "id": "4b3f3bba-1cd4-4271-8b0d-3591d25c1e06",
   "metadata": {},
   "source": [
    "### Note: Currently using DateEventRecorded since most of the start and end values are null."
   ]
  },
  {
   "cell_type": "code",
   "execution_count": null,
   "id": "19f365f5-43cc-45f8-87b2-c03c7d8856c6",
   "metadata": {
    "tags": []
   },
   "outputs": [],
   "source": [
    "gp_df %>%\n",
    "    mutate(\n",
    "        floor_hour = lubridate::floor_date(DateEventRecorded, unit = 'day') # Hour might be more granular but does return same consultation across two hours.\n",
    "    ) %>% count(person_id, floor_hour) %>% arrange(person_id, floor_hour)"
   ]
  },
  {
   "cell_type": "code",
   "execution_count": null,
   "id": "fb18c784-8c4e-4099-9d1b-a77ddbd3a1aa",
   "metadata": {
    "tags": []
   },
   "outputs": [],
   "source": [
    "gp_df %>% filter(person_id == \"PERSON_ID\")"
   ]
  },
  {
   "cell_type": "code",
   "execution_count": null,
   "id": "ca58e3ac-c6d7-4d8f-a615-1fe348939858",
   "metadata": {
    "tags": []
   },
   "outputs": [],
   "source": [
    "gp_tbl %>% filter(person_id == \"PERSON_ID\") %>% glimpse()"
   ]
  },
  {
   "cell_type": "code",
   "execution_count": null,
   "id": "b142d617-5a10-47e7-b33c-e2c1f0153907",
   "metadata": {},
   "outputs": [],
   "source": []
  }
 ],
 "metadata": {
  "environment": {
   "kernel": "ir",
   "name": "r-cpu.m125",
   "type": "gcloud",
   "uri": "us-docker.pkg.dev/deeplearning-platform-release/gcr.io/r-cpu:m125"
  },
  "kernelspec": {
   "display_name": "R (Local)",
   "language": "R",
   "name": "ir"
  },
  "language_info": {
   "codemirror_mode": "r",
   "file_extension": ".r",
   "mimetype": "text/x-r-source",
   "name": "R",
   "pygments_lexer": "r",
   "version": "4.4.1"
  }
 },
 "nbformat": 4,
 "nbformat_minor": 5
}
