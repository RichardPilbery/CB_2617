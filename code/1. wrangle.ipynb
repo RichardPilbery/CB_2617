{
 "cells": [
  {
   "cell_type": "code",
   "execution_count": null,
   "id": "d5e06b1f-8d12-4db2-ac02-788421938a71",
   "metadata": {
    "tags": []
   },
   "outputs": [],
   "source": [
    "Sys.time()"
   ]
  },
  {
   "cell_type": "markdown",
   "id": "a4df2cb6-7af0-4947-b805-b1d07dcf1e89",
   "metadata": {},
   "source": [
    "# Index IUC calls\n",
    "This is all IUC calls with a dental disposition, filtered on possible outbound portion of postcodes found in the dental dataset since the dental data only covers BD and LS postoces, I think. Date range is 1st October 2022 and 31st October, 2023.\n",
    "\n",
    "**NOTE** Jaison has advised that we only have dental data for BD and LS postcode areas. Will filter iuc data on unqiue PARTIAL_POSTCODEs in the dental datasetsince the IUC dataset already only contains cases within the date range and for the previously provided final dispostion codes consistent with urgent dental care.\n",
    "\n"
   ]
  },
  {
   "cell_type": "code",
   "execution_count": null,
   "id": "bda70f78-53a1-48b9-b25d-f012c9f62d96",
   "metadata": {
    "tags": []
   },
   "outputs": [],
   "source": [
    "options(repr.plot.width = 14, repr.plot.height = 8) \n",
    "options(tibble.width = Inf, width = 300)"
   ]
  },
  {
   "cell_type": "code",
   "execution_count": null,
   "id": "aeabc153-7269-4d16-9f33-5945bfae2f55",
   "metadata": {
    "tags": []
   },
   "outputs": [],
   "source": [
    "library(DBI)\n",
    "library(dbplyr)\n",
    "library(bigrquery)\n",
    "suppressPackageStartupMessages(library(tidyverse))\n",
    "library(lubridate)\n",
    "library(readxl)\n",
    "library(knitr)\n",
    "library(IRdisplay)\n",
    "library(htmltools)"
   ]
  },
  {
   "cell_type": "code",
   "execution_count": null,
   "id": "c6576197-0ca4-4db8-982c-533605b3c3f0",
   "metadata": {
    "tags": []
   },
   "outputs": [],
   "source": [
    "con <- DBI::dbConnect(\n",
    "    bigquery(), \n",
    "    project = \"yhcr-prd-bradfor-bia-core\", \n",
    "    bigint = \"character\", \n",
    "    page_size = 5000,\n",
    "    dataset = 'CB_2617'\n",
    ")\n"
   ]
  },
  {
   "cell_type": "code",
   "execution_count": null,
   "id": "620860f6-5f20-4506-a8c8-9edfc8489c5d",
   "metadata": {
    "tags": []
   },
   "outputs": [],
   "source": [
    "dental_tbl <- tbl(con, \"tbl_Dental_Data_NHBSA\")"
   ]
  },
  {
   "cell_type": "code",
   "execution_count": null,
   "id": "e9a4ac8b-78c5-4b84-a53e-c75f5a65aa3c",
   "metadata": {
    "tags": []
   },
   "outputs": [],
   "source": [
    "dental_df <- dental_tbl %>% filter(between(tbl_Dental_Data_NHBSA_start_date, '2022-10-01', '2023-10-31')) %>% collect()"
   ]
  },
  {
   "cell_type": "code",
   "execution_count": null,
   "id": "a4790085-e3e9-4c65-bdf3-0ef5e4e4657c",
   "metadata": {
    "tags": []
   },
   "outputs": [],
   "source": [
    "unique_dental_pc <- paste0(\"'\",dental_df %>% count(PARTIAL_POSTCODE) %>% pull(PARTIAL_POSTCODE), collapse = \"',\")"
   ]
  },
  {
   "cell_type": "markdown",
   "id": "83bc1fcb-a767-4746-8cda-1687e6c1c9f4",
   "metadata": {
    "tags": []
   },
   "source": [
    "# Fetch IUC cases where home postcode is either BD or LS"
   ]
  },
  {
   "cell_type": "code",
   "execution_count": null,
   "id": "10108585-85c2-4fee-9939-6378e60fd646",
   "metadata": {
    "tags": []
   },
   "outputs": [],
   "source": [
    "unique_dental_pc"
   ]
  },
  {
   "cell_type": "code",
   "execution_count": null,
   "id": "46a8f200-3e2a-486f-9227-e0ed2e0287fd",
   "metadata": {
    "tags": []
   },
   "outputs": [],
   "source": [
    "iuc_sql <- glue::glue(\"\n",
    "WITH base_data AS (\n",
    "  SELECT *\n",
    "  FROM `tbl_YAS_IUC`\n",
    "  WHERE person_id IS NOT NULL\n",
    "    AND patient_current_postcode IN ({unique_dental_pc}')\n",
    "),\n",
    "\n",
    "ordered_calls AS (\n",
    "  SELECT\n",
    "    *,\n",
    "    LAG(tbl_YAS_IUC_start_date) OVER (\n",
    "      PARTITION BY person_id\n",
    "      ORDER BY tbl_YAS_IUC_start_date\n",
    "    ) AS previous_call\n",
    "  FROM base_data\n",
    "),\n",
    "\n",
    "session_marks AS (\n",
    "  SELECT\n",
    "    *,\n",
    "    CASE\n",
    "      WHEN previous_call IS NULL THEN 1\n",
    "      WHEN DATE_DIFF(tbl_YAS_IUC_start_date, previous_call, DAY) > 7 THEN 1\n",
    "      ELSE 0\n",
    "    END AS new_session\n",
    "  FROM ordered_calls\n",
    "),\n",
    "\n",
    "sessions AS (\n",
    "  SELECT\n",
    "    *,\n",
    "    SUM(new_session) OVER (\n",
    "      PARTITION BY person_id\n",
    "      ORDER BY tbl_YAS_IUC_start_date\n",
    "    ) AS session_id\n",
    "  FROM session_marks\n",
    "),\n",
    "\n",
    "-- Identify the index caseref (first call per session)\n",
    "index_calls AS (\n",
    "  SELECT\n",
    "    person_id,\n",
    "    session_id,\n",
    "    tbl_YAS_IUC_start_date AS index_call_date,\n",
    "    caseref AS index_call_id\n",
    "  FROM (\n",
    "    SELECT\n",
    "      person_id,\n",
    "      session_id,\n",
    "      tbl_YAS_IUC_start_date,\n",
    "      caseref,\n",
    "      ROW_NUMBER() OVER (\n",
    "        PARTITION BY person_id, session_id\n",
    "        ORDER BY tbl_YAS_IUC_start_date\n",
    "      ) AS rn\n",
    "    FROM sessions\n",
    "  )\n",
    "  WHERE rn = 1\n",
    ")\n",
    "\n",
    "-- Final output\n",
    "SELECT\n",
    "  s.person_id,\n",
    "  s.tbl_YAS_IUC_start_date,\n",
    "  s.tbl_YAS_IUC_end_date,\n",
    "  s.caseref,\n",
    "  s.gp_surgery_id,\n",
    "  s.patient_home_postcode,\n",
    "  s.first_pathway_selected,\n",
    "  s.final_dx_description,\n",
    "  s.final_symptom_group,\n",
    "  s.final_symptom_discriminator,\n",
    "  s.referral_service,\n",
    "  s.referral_service_type,\n",
    "  s.direct_booking_service,\n",
    "  s.rejected_service,\n",
    "  s.rejected_service_reason,\n",
    "  ic.index_call_date,\n",
    "  ic.index_call_id,\n",
    "  CASE WHEN s.caseref = ic.index_call_id THEN 1 ELSE 0 END AS is_index_call\n",
    "FROM sessions s\n",
    "JOIN index_calls ic\n",
    "  ON s.person_id = ic.person_id\n",
    "  AND s.session_id = ic.session_id\n",
    "ORDER BY s.person_id, s.tbl_YAS_IUC_start_date;\n",
    "\")"
   ]
  },
  {
   "cell_type": "code",
   "execution_count": null,
   "id": "4f7ac92f-be99-41b1-80ce-956565cf23a3",
   "metadata": {
    "tags": []
   },
   "outputs": [],
   "source": [
    "iuc_df <- dbGetQuery(con, iuc_sql)"
   ]
  },
  {
   "cell_type": "code",
   "execution_count": null,
   "id": "f4e6de1a-aa1c-4c08-acf8-9b18fca967fb",
   "metadata": {
    "tags": []
   },
   "outputs": [],
   "source": [
    "html_output <- paste0(\n",
    "  '<div style=\"overflow-x: auto; white-space: nowrap;\">',\n",
    "  kable(iuc_df %>% head(), format = \"html\"),\n",
    "  '</div>'\n",
    ")\n",
    "\n",
    "display_html(html_output)"
   ]
  },
  {
   "cell_type": "markdown",
   "id": "ba795e38-83fb-4b6d-8e40-b2d97eb21fe6",
   "metadata": {
    "tags": []
   },
   "source": [
    "## Total index calls"
   ]
  },
  {
   "cell_type": "code",
   "execution_count": null,
   "id": "2722824f-c6b8-4b21-8be0-e7ac8107c2c9",
   "metadata": {
    "tags": []
   },
   "outputs": [],
   "source": [
    "iuc_df %>% count(is_index_call)"
   ]
  },
  {
   "cell_type": "markdown",
   "id": "1fd1cdc9-25f5-44db-a1cd-ee561d32a953",
   "metadata": {},
   "source": [
    "## IUC calls per month"
   ]
  },
  {
   "cell_type": "code",
   "execution_count": null,
   "id": "46e589b8-4f9c-4c6a-bf95-f355972350ca",
   "metadata": {
    "tags": []
   },
   "outputs": [],
   "source": [
    "iuc_df %>%\n",
    "    #filter(is_index_call == 1) %>%\n",
    "    mutate(month = floor_date(tbl_YAS_IUC_start_date, \"month\")) %>%\n",
    "      count(month, is_index_call) %>%\n",
    "      arrange(month) %>%\n",
    "        ggplot(aes(x = month, y = n, fill = is_index_call)) +\n",
    "        geom_col()"
   ]
  },
  {
   "cell_type": "markdown",
   "id": "90daf8c4-6148-40a4-9ee8-eb45e40882ae",
   "metadata": {
    "tags": []
   },
   "source": [
    "## Associate dental cases with index IUC calls"
   ]
  },
  {
   "cell_type": "code",
   "execution_count": null,
   "id": "de28daa4-cd7c-48bd-bd94-a5f6a250523b",
   "metadata": {
    "tags": []
   },
   "outputs": [],
   "source": [
    "index_iuc <- iuc_df %>%\n",
    "  filter(is_index_call == 1) %>%\n",
    "  select(\n",
    "      person_id, \n",
    "      index_call_date = tbl_YAS_IUC_start_date, \n",
    "      index_caseref = caseref,\n",
    "      index_referral_service = referral_service,\n",
    "      index_disposition = final_dx_description\n",
    "    )"
   ]
  },
  {
   "cell_type": "code",
   "execution_count": null,
   "id": "799c4618-a334-49d6-80c7-f54e60db6fba",
   "metadata": {
    "tags": []
   },
   "outputs": [],
   "source": [
    "index_iuc %>% glimpse()\n",
    "index_iuc %>% saveRDS('../data/index_iuc_df.rds')"
   ]
  },
  {
   "cell_type": "markdown",
   "id": "11e9f554-9171-4d76-ab45-ea420488f0a5",
   "metadata": {},
   "source": [
    "## Write Index IUC calls to datbase to inner join on other tables"
   ]
  },
  {
   "cell_type": "code",
   "execution_count": null,
   "id": "42820a2b-6779-4786-b5e9-5979df53f636",
   "metadata": {
    "tags": []
   },
   "outputs": [],
   "source": [
    "#DBI::dbWriteTable(con, \"index_iuc\", index_iuc, overwrite = TRUE)"
   ]
  },
  {
   "cell_type": "code",
   "execution_count": null,
   "id": "7609607e-b323-4542-9a64-fe568be0f4f1",
   "metadata": {
    "tags": []
   },
   "outputs": [],
   "source": [
    "dental_tagged <- dental_df %>%\n",
    "  inner_join(index_iuc, by = \"person_id\", relationship = \"many-to-many\") %>%\n",
    "  filter(tbl_Dental_Data_NHBSA_start_date >= index_call_date,\n",
    "         tbl_Dental_Data_NHBSA_start_date <= index_call_date + days(7))"
   ]
  },
  {
   "cell_type": "code",
   "execution_count": null,
   "id": "849084ae-818c-4dc8-91c3-cbed2d2fbad5",
   "metadata": {
    "tags": []
   },
   "outputs": [],
   "source": [
    "dental_tagged %>% count()"
   ]
  },
  {
   "cell_type": "code",
   "execution_count": null,
   "id": "d4a9a86c-2d12-46ad-a2ca-f412554d2ee2",
   "metadata": {
    "tags": []
   },
   "outputs": [],
   "source": [
    "colnames(dental_tagged)"
   ]
  },
  {
   "cell_type": "code",
   "execution_count": null,
   "id": "7c3d82d2-1a21-47f8-8261-dc0f9a1caad2",
   "metadata": {
    "tags": []
   },
   "outputs": [],
   "source": [
    "visit_in_time_df <- dental_tagged %>%\n",
    "  mutate(\n",
    "    day_diff = as.integer(as_date(tbl_Dental_Data_NHBSA_start_date) - as_date(index_call_date))\n",
    "  ) %>%\n",
    "  group_by(index_call_date, person_id) %>%\n",
    "  summarise(\n",
    "    n = n(),\n",
    "    dental_within_24hr = sum(day_diff >= 0 & day_diff <= 1),\n",
    "    dental_within_7d = sum(day_diff >= 0 & day_diff <= 7)\n",
    "  ) %>%\n",
    "  ungroup()"
   ]
  },
  {
   "cell_type": "code",
   "execution_count": null,
   "id": "de236b18-144a-4fab-91d3-40243d232ee1",
   "metadata": {
    "tags": []
   },
   "outputs": [],
   "source": [
    "visit_in_time_df %>% glimpse()"
   ]
  },
  {
   "cell_type": "code",
   "execution_count": null,
   "id": "aee23e87-b451-4990-80eb-66778a604130",
   "metadata": {
    "tags": []
   },
   "outputs": [],
   "source": [
    "visit_in_time_df %>%\n",
    "    transmute(\n",
    "        month = floor_date(index_call_date, unit = 'month'),\n",
    "        dental_within_24hr = if_else(dental_within_24hr >= 1, 'yes', 'no'),\n",
    "        dental_within_7d = if_else(dental_within_7d >= 1, 'yes', 'no')\n",
    "    ) %>%\n",
    "    pivot_longer(\n",
    "    cols = c(dental_within_24hr, dental_within_7d),\n",
    "    names_to = \"window\",\n",
    "    values_to = \"in_time\"\n",
    "  ) %>%\n",
    "    ggplot(aes(x = month, fill = in_time)) +\n",
    "    geom_bar(position=\"stack\")+\n",
    "     facet_wrap(~window)"
   ]
  },
  {
   "cell_type": "markdown",
   "id": "913245fc-f7c0-4476-b632-30e0b41bdea0",
   "metadata": {
    "tags": []
   },
   "source": [
    "# All IUC dental vs actual dental contact"
   ]
  },
  {
   "cell_type": "code",
   "execution_count": null,
   "id": "39832674-0d2e-47ee-9160-64b73d44f075",
   "metadata": {
    "tags": []
   },
   "outputs": [],
   "source": [
    "index_iuc %>% glimpse()"
   ]
  },
  {
   "cell_type": "code",
   "execution_count": null,
   "id": "47dd6f18-a1c5-4f71-8fc8-664ba6bf6dd6",
   "metadata": {
    "tags": []
   },
   "outputs": [],
   "source": [
    "dental_tagged %>% glimpse()"
   ]
  },
  {
   "cell_type": "code",
   "execution_count": null,
   "id": "3fe8de0f-979b-4744-a793-b4bef2c2b5f6",
   "metadata": {
    "tags": []
   },
   "outputs": [],
   "source": [
    "all_iuc_dental_df <- index_iuc %>%\n",
    "    left_join(dental_tagged %>% mutate(dental = 1) %>% select(dental, index_caseref, EXEMPTION_REMISSION_FLAG, TREATMENT_CHARGE_BAND, NICE_RECALL_GROUP), by=\"index_caseref\") %>%\n",
    "    arrange(index_caseref, index_call_date) %>%\n",
    "    group_by(index_caseref, index_call_date) %>%\n",
    "    slice(1) %>% # Only return first treatment for this\n",
    "    ungroup()"
   ]
  },
  {
   "cell_type": "code",
   "execution_count": null,
   "id": "57ccd41f-f3ae-40ca-9673-ad8ba039f226",
   "metadata": {
    "tags": []
   },
   "outputs": [],
   "source": [
    "all_iuc_dental_df %>% glimpse()"
   ]
  },
  {
   "cell_type": "code",
   "execution_count": null,
   "id": "fad30b80-9d4f-415c-bdcd-576428d6b52a",
   "metadata": {
    "tags": []
   },
   "outputs": [],
   "source": [
    "all_iuc_dental_df %>% mutate(dental = if_else(is.na(dental), 0, dental)) %>% count(dental, index_disposition, sort = T) %>% head(10)\n",
    "# Note that dental denotes whether there was a dental contact"
   ]
  },
  {
   "cell_type": "code",
   "execution_count": null,
   "id": "33547453-98ce-4198-8a18-b678a5e8e8cc",
   "metadata": {
    "tags": []
   },
   "outputs": [],
   "source": [
    "iuc_dental_referral_service_df <- all_iuc_dental_df %>% \n",
    "    mutate(\n",
    "        dental_contact = as.factor(if_else(is.na(dental), 'no', 'yes')),\n",
    "        referral_group = case_when(\n",
    "            grepl('Dental CAS', index_referral_service) ~ 'Dental CAS',\n",
    "            grepl('ED:', index_referral_service) ~ 'ED',\n",
    "            grepl('GP OOH', index_referral_service) ~ 'GP OOH',\n",
    "            grepl('GP', index_referral_service) ~ 'GP in-hours',\n",
    "            grepl('Dental Emergency', index_referral_service) ~ 'Dental Emergency',\n",
    "            grepl('Dentist|Dental', index_referral_service) ~ 'Dentist',\n",
    "            grepl('YAS NHS111', index_referral_service) ~ '111 ED verification',\n",
    "            grepl('UTC|Urgent Care', index_referral_service) ~ 'UTC',\n",
    "            .default = 'Other'\n",
    "        )\n",
    "    ) %>% \n",
    "    count(dental_contact, referral_group, sort = T)"
   ]
  },
  {
   "cell_type": "code",
   "execution_count": null,
   "id": "63e10f0c-4ebd-42fe-bb03-293f05856b93",
   "metadata": {
    "tags": []
   },
   "outputs": [],
   "source": [
    "iuc_dental_referral_service_df %>%\n",
    "    pivot_wider(names_from = 'dental_contact', values_from = 'n')"
   ]
  },
  {
   "cell_type": "code",
   "execution_count": null,
   "id": "513a8497-1e1b-4dc8-83ad-e4939557662e",
   "metadata": {
    "tags": []
   },
   "outputs": [],
   "source": [
    "all_iuc_dental_summary_df <- all_iuc_dental_df %>%\n",
    "    transmute(\n",
    "        dental_contact = as.factor(if_else(is.na(dental), 'no', 'yes')),\n",
    "        EXEMPTION_REMISSION_FLAG, \n",
    "        TREATMENT_CHARGE_BAND,NICE_RECALL_GROUP\n",
    "    )"
   ]
  },
  {
   "cell_type": "code",
   "execution_count": null,
   "id": "04e97f52-fa31-4afc-969b-c39967d0341f",
   "metadata": {
    "tags": []
   },
   "outputs": [],
   "source": [
    "all_iuc_dental_summary_df %>%\n",
    "    count(dental_contact, EXEMPTION_REMISSION_FLAG, sort = T) %>% head(10)"
   ]
  },
  {
   "cell_type": "code",
   "execution_count": null,
   "id": "be837e70-6316-4187-b230-4770a32735f0",
   "metadata": {
    "tags": []
   },
   "outputs": [],
   "source": [
    "all_iuc_dental_summary_df %>% count(dental_contact, NICE_RECALL_GROUP, sort = T) %>% head(10)"
   ]
  },
  {
   "cell_type": "code",
   "execution_count": null,
   "id": "13223ed9-02c9-4930-ba6f-4db08d5cbab7",
   "metadata": {
    "tags": []
   },
   "outputs": [],
   "source": [
    "all_iuc_dental_summary_df %>% count(dental_contact, TREATMENT_CHARGE_BAND, sort = T) %>% head(10)"
   ]
  },
  {
   "cell_type": "code",
   "execution_count": null,
   "id": "d947ef2d-bf3d-41cc-b985-05954ef6df07",
   "metadata": {},
   "outputs": [],
   "source": []
  }
 ],
 "metadata": {
  "environment": {
   "kernel": "ir",
   "name": "r-cpu.m125",
   "type": "gcloud",
   "uri": "us-docker.pkg.dev/deeplearning-platform-release/gcr.io/r-cpu:m125"
  },
  "kernelspec": {
   "display_name": "R (Local)",
   "language": "R",
   "name": "ir"
  },
  "language_info": {
   "codemirror_mode": "r",
   "file_extension": ".r",
   "mimetype": "text/x-r-source",
   "name": "R",
   "pygments_lexer": "r",
   "version": "4.4.1"
  }
 },
 "nbformat": 4,
 "nbformat_minor": 5
}
